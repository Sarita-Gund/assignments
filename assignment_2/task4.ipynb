{
 "cells": [
  {
   "cell_type": "markdown",
   "id": "a6d5e1d2",
   "metadata": {},
   "source": [
    "docker hub image link: https://hub.docker.com/repository/docker/saritagund/autotestapp"
   ]
  },
  {
   "cell_type": "markdown",
   "id": "c9de2d2d",
   "metadata": {},
   "source": [
    "github action code link: https://github.com/Sarita-Gund/test"
   ]
  },
  {
   "cell_type": "code",
   "execution_count": null,
   "id": "1bb13bb5",
   "metadata": {},
   "outputs": [],
   "source": []
  }
 ],
 "metadata": {
  "kernelspec": {
   "display_name": "Python 3 (ipykernel)",
   "language": "python",
   "name": "python3"
  },
  "language_info": {
   "codemirror_mode": {
    "name": "ipython",
    "version": 3
   },
   "file_extension": ".py",
   "mimetype": "text/x-python",
   "name": "python",
   "nbconvert_exporter": "python",
   "pygments_lexer": "ipython3",
   "version": "3.9.7"
  }
 },
 "nbformat": 4,
 "nbformat_minor": 5
}
